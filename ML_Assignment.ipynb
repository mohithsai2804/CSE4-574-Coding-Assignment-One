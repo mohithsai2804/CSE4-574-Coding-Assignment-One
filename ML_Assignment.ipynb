{
 "cells": [
  {
   "cell_type": "code",
   "execution_count": 186,
   "metadata": {},
   "outputs": [],
   "source": [
    "import pandas as pd\n",
    "import numpy as np\n",
    "import matplotlib.pyplot as plt"
   ]
  },
  {
   "cell_type": "code",
   "execution_count": 211,
   "metadata": {},
   "outputs": [
    {
     "name": "stdout",
     "output_type": "stream",
     "text": [
      "Main Statistics of Wine Quality Dataset:\n",
      "       fixed acidity  volatile acidity  citric acid  residual sugar   \n",
      "count    1599.000000       1599.000000  1599.000000     1599.000000  \\\n",
      "mean        8.319637          0.527821     0.270976        2.538806   \n",
      "std         1.741096          0.179060     0.194801        1.409928   \n",
      "min         4.600000          0.120000     0.000000        0.900000   \n",
      "25%         7.100000          0.390000     0.090000        1.900000   \n",
      "50%         7.900000          0.520000     0.260000        2.200000   \n",
      "75%         9.200000          0.640000     0.420000        2.600000   \n",
      "max        15.900000          1.580000     1.000000       15.500000   \n",
      "\n",
      "         chlorides  free sulfur dioxide  total sulfur dioxide      density   \n",
      "count  1599.000000          1599.000000           1599.000000  1599.000000  \\\n",
      "mean      0.087467            15.874922             46.467792     0.996747   \n",
      "std       0.047065            10.460157             32.895324     0.001887   \n",
      "min       0.012000             1.000000              6.000000     0.990070   \n",
      "25%       0.070000             7.000000             22.000000     0.995600   \n",
      "50%       0.079000            14.000000             38.000000     0.996750   \n",
      "75%       0.090000            21.000000             62.000000     0.997835   \n",
      "max       0.611000            72.000000            289.000000     1.003690   \n",
      "\n",
      "                pH    sulphates      alcohol      quality  \n",
      "count  1599.000000  1599.000000  1599.000000  1599.000000  \n",
      "mean      3.311113     0.658149    10.422983     5.636023  \n",
      "std       0.154386     0.169507     1.065668     0.807569  \n",
      "min       2.740000     0.330000     8.400000     3.000000  \n",
      "25%       3.210000     0.550000     9.500000     5.000000  \n",
      "50%       3.310000     0.620000    10.200000     6.000000  \n",
      "75%       3.400000     0.730000    11.100000     6.000000  \n",
      "max       4.010000     2.000000    14.900000     8.000000  \n"
     ]
    }
   ],
   "source": [
    "# Load WineRed Quality dataset\n",
    "w_d = pd.read_csv('/Users/mohithsainattam/Downloads/datasets/winequality-red.csv')\n",
    "print(\"Main Statistics of Wine Quality Dataset:\")\n",
    "print(w_d.describe())"
   ]
  },
  {
   "cell_type": "code",
   "execution_count": 212,
   "metadata": {},
   "outputs": [
    {
     "name": "stdout",
     "output_type": "stream",
     "text": [
      "\n",
      "First 5 rows of the dataset:\n",
      "   fixed acidity  volatile acidity  citric acid  residual sugar  chlorides   \n",
      "0            7.4              0.70         0.00             1.9      0.076  \\\n",
      "1            7.8              0.88         0.00             2.6      0.098   \n",
      "2            7.8              0.76         0.04             2.3      0.092   \n",
      "3           11.2              0.28         0.56             1.9      0.075   \n",
      "4            7.4              0.70         0.00             1.9      0.076   \n",
      "\n",
      "   free sulfur dioxide  total sulfur dioxide  density    pH  sulphates   \n",
      "0                 11.0                  34.0   0.9978  3.51       0.56  \\\n",
      "1                 25.0                  67.0   0.9968  3.20       0.68   \n",
      "2                 15.0                  54.0   0.9970  3.26       0.65   \n",
      "3                 17.0                  60.0   0.9980  3.16       0.58   \n",
      "4                 11.0                  34.0   0.9978  3.51       0.56   \n",
      "\n",
      "   alcohol  quality  \n",
      "0      9.4        5  \n",
      "1      9.8        5  \n",
      "2      9.8        5  \n",
      "3      9.8        6  \n",
      "4      9.4        5  \n"
     ]
    }
   ],
   "source": [
    "print(\"\\nFirst 5 rows of the dataset:\")\n",
    "print(w_d.head())"
   ]
  },
  {
   "cell_type": "code",
   "execution_count": 213,
   "metadata": {},
   "outputs": [
    {
     "name": "stdout",
     "output_type": "stream",
     "text": [
      "\n",
      "Sum of Missing Entries:\n",
      "fixed acidity           0\n",
      "volatile acidity        0\n",
      "citric acid             0\n",
      "residual sugar          0\n",
      "chlorides               0\n",
      "free sulfur dioxide     0\n",
      "total sulfur dioxide    0\n",
      "density                 0\n",
      "pH                      0\n",
      "sulphates               0\n",
      "alcohol                 0\n",
      "quality                 0\n",
      "dtype: int64\n"
     ]
    }
   ],
   "source": [
    "# Calculate sum of missing entries\n",
    "missing_values = w_d.isnull().sum(axis=0)\n",
    "print(\"\\nSum of Missing Entries:\")\n",
    "print(missing_values)"
   ]
  },
  {
   "cell_type": "code",
   "execution_count": 214,
   "metadata": {},
   "outputs": [
    {
     "data": {
      "image/png": "[encoded data removed]",
      "text/plain": [
       "<Figure size 800x600 with 1 Axes>"
      ]
     },
     "metadata": {},
     "output_type": "display_data"
    }
   ],
   "source": [
    "plt.figure(figsize=(8, 6))\n",
    "plt.hist(w_d['chlorides'], bins=5, color='skyblue', edgecolor='black')\n",
    "plt.xlabel('chlorides')\n",
    "plt.ylabel('Frequency')\n",
    "plt.title('Distribution of chlorides in Wine Quality Dataset')\n",
    "plt.show()"
   ]
  },
  {
   "cell_type": "code",
   "execution_count": 215,
   "metadata": {},
   "outputs": [],
   "source": [
    "#Linear Regression on Wine Quality dataset\n",
    "X = w_d[['fixed acidity','volatile acidity','citric acid','residual sugar','quality','free sulfur dioxide','total sulfur dioxide','density','pH','sulphates','alcohol'\n",
    "]]\n",
    "y = w_d['chlorides']"
   ]
  },
  {
   "cell_type": "code",
   "execution_count": 216,
   "metadata": {},
   "outputs": [
    {
     "name": "stdout",
     "output_type": "stream",
     "text": [
      "X_train shape: (1279, 11)\n",
      "y_train shape: (1279,)\n",
      "X_test shape: (320, 11)\n",
      "y_test shape: (320,)\n"
     ]
    }
   ],
   "source": [
    "N, d = X.shape  # N is the number of samples, d is the number of features\n",
    "\n",
    "tr_size = int(0.8 * N)\n",
    "X_train, X_test = X[:tr_size], X[tr_size:]\n",
    "y_train, y_test = y[:tr_size], y[tr_size:]\n",
    "\n",
    "print(f\"X_train shape: {X_train.shape}\")\n",
    "print(f\"y_train shape: {y_train.shape}\")\n",
    "print(f\"X_test shape: {X_test.shape}\")\n",
    "print(f\"y_test shape: {y_test.shape}\")"
   ]
  },
  {
   "cell_type": "code",
   "execution_count": 217,
   "metadata": {},
   "outputs": [
    {
     "name": "stdout",
     "output_type": "stream",
     "text": [
      "[-7.58350030e+00 -1.91723099e-02  5.83535168e-02  9.52861073e-02\n",
      " -2.75386208e-03 -6.37196248e-03  3.77023239e-04 -3.07983362e-04\n",
      "  8.19724083e+00 -1.21579112e-01  9.88022788e-02 -5.90339569e-04]\n"
     ]
    }
   ],
   "source": [
    "# closed-form solution to solve linear regression\n",
    "X_train = np.c_[np.ones(X_train.shape[0]), X_train]\n",
    "X_test = np.c_[np.ones(X_test.shape[0]), X_test]\n",
    "w = np.dot(np.dot(np.linalg.inv(np.dot(X_train.T, X_train)), X_train.T), y_train)\n",
    "print(w)"
   ]
  },
  {
   "cell_type": "code",
   "execution_count": 218,
   "metadata": {},
   "outputs": [
    {
     "name": "stdout",
     "output_type": "stream",
     "text": [
      "Mean Squared Error on Training Set: 0.0015063079848283323\n"
     ]
    }
   ],
   "source": [
    "# calculate MSE on testing data\n",
    "y_prediction_train = np.dot(X_train, w)\n",
    "mse = np.mean((y_train - y_prediction_train)**2)\n",
    "print(f\"Mean Squared Error on Training Set: {mse}\")"
   ]
  },
  {
   "cell_type": "code",
   "execution_count": 219,
   "metadata": {},
   "outputs": [
    {
     "name": "stdout",
     "output_type": "stream",
     "text": [
      "Mean Squared Error on Test Set: 0.0014694309988374913\n"
     ]
    }
   ],
   "source": [
    "#Get predictions and calculate MSE on testing data\n",
    "y_prediction = np.dot(X_test, w)\n",
    "mse = np.mean((y_test - y_prediction)**2)\n",
    "print(f\"Mean Squared Error on Test Set: {mse}\")"
   ]
  },
  {
   "cell_type": "code",
   "execution_count": 209,
   "metadata": {},
   "outputs": [
    {
     "name": "stderr",
     "output_type": "stream",
     "text": [
      "No artists with labels found to put in legend.  Note that artists whose label start with an underscore are ignored when legend() is called with no argument.\n"
     ]
    },
    {
     "data": {
      "image/png": "[encoded data removed]",
      "text/plain": [
       "<Figure size 640x480 with 1 Axes>"
      ]
     },
     "metadata": {},
     "output_type": "display_data"
    }
   ],
   "source": [
    "#Plot predictions vs actual values\n",
    "plt.scatter(y_test, y_prediction)\n",
    "plt.plot(y_test, y_test, color='red', linewidth=2)\n",
    "plt.xlabel(\"Actual Values\")\n",
    "plt.ylabel(\"Predicted Values\")\n",
    "plt.title(\"Actual vs Predicted Values\")\n",
    "plt.legend()\n",
    "plt.show()"
   ]
  },
  {
   "cell_type": "code",
   "execution_count": 221,
   "metadata": {},
   "outputs": [
    {
     "name": "stdout",
     "output_type": "stream",
     "text": [
      "Main Statistics of penguins Dataset:\n",
      "       bill_length_mm  bill_depth_mm  flipper_length_mm  body_mass_g   \n",
      "count      342.000000     342.000000         342.000000   342.000000  \\\n",
      "mean        43.921930      17.151170         200.915205  4201.754386   \n",
      "std          5.459584       1.974793          14.061714   801.954536   \n",
      "min         32.100000      13.100000         172.000000  2700.000000   \n",
      "25%         39.225000      15.600000         190.000000  3550.000000   \n",
      "50%         44.450000      17.300000         197.000000  4050.000000   \n",
      "75%         48.500000      18.700000         213.000000  4750.000000   \n",
      "max         59.600000      21.500000         231.000000  6300.000000   \n",
      "\n",
      "              year  \n",
      "count   344.000000  \n",
      "mean   2008.029070  \n",
      "std       0.818356  \n",
      "min    2007.000000  \n",
      "25%    2007.000000  \n",
      "50%    2008.000000  \n",
      "75%    2009.000000  \n",
      "max    2009.000000  \n",
      "\n",
      "First 5 rows of the dataset:\n",
      "  species     island  bill_length_mm  bill_depth_mm  flipper_length_mm   \n",
      "0  Adelie  Torgersen            39.1           18.7              181.0  \\\n",
      "1  Adelie  Torgersen            39.5           17.4              186.0   \n",
      "2  Adelie  Torgersen            40.3           18.0              195.0   \n",
      "3  Adelie  Torgersen             NaN            NaN                NaN   \n",
      "4  Adelie  Torgersen            36.7           19.3              193.0   \n",
      "\n",
      "   body_mass_g     sex  year  \n",
      "0       3750.0    male  2007  \n",
      "1       3800.0  female  2007  \n",
      "2       3250.0  female  2007  \n",
      "3          NaN     NaN  2007  \n",
      "4       3450.0  female  2007  \n"
     ]
    }
   ],
   "source": [
    "# Load penguins dataset\n",
    "p_data = pd.read_csv('/Users/mohithsainattam/Downloads/datasets/penguins.csv')\n",
    "\n",
    "# Extract main statistics\n",
    "print(\"Main Statistics of penguins Dataset:\")\n",
    "print(p_data.describe())\n",
    "print(\"\\nFirst 5 rows of the dataset:\")\n",
    "print(p_data.head())"
   ]
  },
  {
   "cell_type": "code",
   "execution_count": 222,
   "metadata": {},
   "outputs": [
    {
     "name": "stdout",
     "output_type": "stream",
     "text": [
      "\n",
      "Sum of Missing Entries:\n",
      "species               0\n",
      "island                0\n",
      "bill_length_mm        2\n",
      "bill_depth_mm         2\n",
      "flipper_length_mm     2\n",
      "body_mass_g           2\n",
      "sex                  11\n",
      "year                  0\n",
      "dtype: int64\n"
     ]
    }
   ],
   "source": [
    "# Calculate sum of missing entries\n",
    "missing_values = p_data.isnull().sum(axis=0)\n",
    "print(\"\\nSum of Missing Entries:\")\n",
    "print(missing_values)"
   ]
  },
  {
   "cell_type": "code",
   "execution_count": 223,
   "metadata": {},
   "outputs": [],
   "source": [
    "#filling the missing values with most frequent values using mode\n",
    "p_data.fillna(p_data.mode().iloc[0], inplace=True)"
   ]
  },
  {
   "cell_type": "code",
   "execution_count": 224,
   "metadata": {},
   "outputs": [
    {
     "name": "stdout",
     "output_type": "stream",
     "text": [
      "\n",
      "Sum of Missing Entries:\n",
      "species              0\n",
      "island               0\n",
      "bill_length_mm       0\n",
      "bill_depth_mm        0\n",
      "flipper_length_mm    0\n",
      "body_mass_g          0\n",
      "sex                  0\n",
      "year                 0\n",
      "dtype: int64\n"
     ]
    }
   ],
   "source": [
    "missing_values = p_data.isnull().sum(axis=0)\n",
    "print(\"\\nSum of Missing Entries:\")\n",
    "print(missing_values)"
   ]
  },
  {
   "cell_type": "code",
   "execution_count": 225,
   "metadata": {},
   "outputs": [],
   "source": [
    "def encoding(category_list):\n",
    "    cs = list(set(category_list))\n",
    "    numeric_data = {category: i for i, category in enumerate(cs)}\n",
    "    numerical_list = [numeric_data[category] for category in category_list]\n",
    "    return numerical_list\n",
    "\n",
    "p_data['species'] = encoding(p_data['species'])\n",
    "p_data['island']= encoding(p_data['island'])\n",
    "p_data['sex'] = encoding(p_data['sex'])"
   ]
  },
  {
   "cell_type": "code",
   "execution_count": 226,
   "metadata": {},
   "outputs": [
    {
     "data": {
      "text/plain": [
       "species\n",
       "1    152\n",
       "0    124\n",
       "2     68\n",
       "Name: count, dtype: int64"
      ]
     },
     "execution_count": 226,
     "metadata": {},
     "output_type": "execute_result"
    }
   ],
   "source": [
    "p_data['species'].value_counts()"
   ]
  },
  {
   "cell_type": "code",
   "execution_count": 227,
   "metadata": {},
   "outputs": [
    {
     "data": {
      "text/plain": [
       "island\n",
       "2    168\n",
       "0    124\n",
       "1     52\n",
       "Name: count, dtype: int64"
      ]
     },
     "execution_count": 227,
     "metadata": {},
     "output_type": "execute_result"
    }
   ],
   "source": [
    "p_data['island'].value_counts()"
   ]
  },
  {
   "cell_type": "code",
   "execution_count": 228,
   "metadata": {},
   "outputs": [
    {
     "data": {
      "text/plain": [
       "sex\n",
       "1    179\n",
       "0    165\n",
       "Name: count, dtype: int64"
      ]
     },
     "execution_count": 228,
     "metadata": {},
     "output_type": "execute_result"
    }
   ],
   "source": [
    "p_data['sex'].value_counts()"
   ]
  },
  {
   "cell_type": "code",
   "execution_count": 229,
   "metadata": {},
   "outputs": [
    {
     "name": "stdout",
     "output_type": "stream",
     "text": [
      "   species  island  bill_length_mm  bill_depth_mm  flipper_length_mm   \n",
      "0        1       1            39.1           18.7              181.0  \\\n",
      "1        1       1            39.5           17.4              186.0   \n",
      "2        1       1            40.3           18.0              195.0   \n",
      "3        1       1            41.1           17.0              190.0   \n",
      "4        1       1            36.7           19.3              193.0   \n",
      "\n",
      "   body_mass_g  sex  year  \n",
      "0       3750.0    1  2007  \n",
      "1       3800.0    0  2007  \n",
      "2       3250.0    0  2007  \n",
      "3       3800.0    1  2007  \n",
      "4       3450.0    0  2007  \n"
     ]
    }
   ],
   "source": [
    "print(p_data.head())"
   ]
  },
  {
   "cell_type": "code",
   "execution_count": 230,
   "metadata": {},
   "outputs": [
    {
     "name": "stdout",
     "output_type": "stream",
     "text": [
      "      species  bill_length_mm  bill_depth_mm  flipper_length_mm  body_mass_g\n",
      "0    0.223265       -0.883375       0.788176          -1.415471    -0.562452\n",
      "1    0.223265       -0.809845       0.127001          -1.058960    -0.499877\n",
      "2    0.223265       -0.662785       0.432159          -0.417242    -1.188208\n",
      "3    0.223265       -0.515725      -0.076437          -0.773752    -0.499877\n",
      "4    0.223265       -1.324555       1.093334          -0.559846    -0.937906\n",
      "..        ...             ...            ...                ...          ...\n",
      "339  1.594752        2.186502       1.347632           0.438383    -0.249575\n",
      "340  1.594752       -0.074545       0.483018           0.081873    -1.000481\n",
      "341  1.594752        1.046787       0.533878          -0.559846    -0.531165\n",
      "342  1.594752        1.267377       0.940755           0.652290    -0.124423\n",
      "343  1.594752        1.157082       0.788176          -0.203335    -0.531165\n",
      "\n",
      "[344 rows x 5 columns]\n",
      "\n",
      "Shapes of Training and Test Sets:\n",
      "X_train: (275, 5)\n",
      "y_train: (275,)\n",
      "X_test: (69, 5)\n",
      "y_test: (69,)\n"
     ]
    }
   ],
   "source": [
    "#Logistic Regression on Penguins dataset\n",
    "\n",
    "# Choose features and target\n",
    "X = p_data[['species','bill_length_mm', 'bill_depth_mm', 'flipper_length_mm', 'body_mass_g']]\n",
    "y = p_data['sex']\n",
    "\n",
    "# standardize features\n",
    "def standardize_features(X):\n",
    "    mean = np.mean(X, axis=0)\n",
    "    standard_dev = np.std(X, axis=0)\n",
    "    standardized_X = (X - mean) / standard_dev\n",
    "    return standardized_X\n",
    "\n",
    "X = standardize_features(X)\n",
    "\n",
    "# Split the dataset into training and test sets\n",
    "splitting_ratio = 0.8\n",
    "splitting_index = int(len(X) * splitting_ratio)\n",
    "X_train, X_test = X[:splitting_index], X[splitting_index:]\n",
    "y_train, y_test = y[:splitting_index], y[splitting_index:]\n",
    "\n",
    "print(X)\n",
    "print(\"\\nShapes of Training and Test Sets:\")\n",
    "print(\"X_train:\", X_train.shape)\n",
    "print(\"y_train:\", y_train.shape)\n",
    "print(\"X_test:\", X_test.shape)\n",
    "print(\"y_test:\", y_test.shape)"
   ]
  },
  {
   "cell_type": "code",
   "execution_count": 231,
   "metadata": {},
   "outputs": [],
   "source": [
    "# Logistic Regression Class\n",
    "class LogisticRegression:\n",
    "    def __init__(self, learn_rate, iterations):\n",
    "        self.learn_rate = learn_rate\n",
    "        self.iterations = iterations\n",
    "        self.loss = []\n",
    "        \n",
    "\n",
    "    def sigmoid(self, linear_pred):\n",
    "        e = np.exp(-linear_pred)\n",
    "        sig =  1 / (1 + e)\n",
    "        return sig\n",
    "\n",
    "    def cost(self, y_pred, y):\n",
    "        c =(-y * np.log(y_pred) - (1 - y) * np.log(1 - y_pred)).mean()\n",
    "        return c\n",
    "\n",
    "    def gradient_descent(self, X, y_pred, y):\n",
    "        grad_desc = np.dot(X.T, (y_pred - y)) / y.shape[0]\n",
    "        return grad_desc\n",
    "\n",
    "    def fit(self, X, y):\n",
    "        self.weight_vector = np.random.uniform(0, 1, X.shape[1])\n",
    "        for i in range(self.iterations):\n",
    "            linear_pred = np.dot(X, self.weight_vector)\n",
    "            y_pred = self.sigmoid(linear_pred)\n",
    "            gradient = self.gradient_descent(X, y_pred, y)\n",
    "            self.weight_vector -= self.learn_rate * gradient\n",
    "            loss = (-y * np.log(y_pred) - (1 - y) * np.log(1 - y_pred)).mean()\n",
    "            self.loss.append(loss)\n",
    "            if i % 10000 == 0:\n",
    "                print(f'Iteration {i}, Cost: {self.cost(y_pred, y)}')\n",
    "\n",
    "    def predict(self, X):\n",
    "        print(self.weight_vector)\n",
    "        pred = np.round(self.sigmoid(np.dot(X, self.weight_vector)))\n",
    "        return pred"
   ]
  },
  {
   "attachments": {},
   "cell_type": "markdown",
   "metadata": {},
   "source": [
    "1st Hyperparameter Tuning"
   ]
  },
  {
   "cell_type": "code",
   "execution_count": 238,
   "metadata": {},
   "outputs": [
    {
     "name": "stdout",
     "output_type": "stream",
     "text": [
      "Iteration 0, Cost: 0.5148869775915572\n",
      "Iteration 10000, Cost: 0.5140067989909756\n",
      "Iteration 20000, Cost: 0.5131385698848558\n",
      "Iteration 30000, Cost: 0.5122820875181228\n",
      "Iteration 40000, Cost: 0.5114371525361108\n",
      "Iteration 50000, Cost: 0.5106035689379044\n",
      "Iteration 60000, Cost: 0.5097811440297453\n",
      "Iteration 70000, Cost: 0.5089696883785636\n"
     ]
    }
   ],
   "source": [
    "# Train the Logistic Regression model\n",
    "model = LogisticRegression(learn_rate=1e-6, iterations=80000)\n",
    "model.fit(X_train, y_train)"
   ]
  },
  {
   "cell_type": "code",
   "execution_count": 239,
   "metadata": {},
   "outputs": [
    {
     "name": "stdout",
     "output_type": "stream",
     "text": [
      "[0.08703479 0.11582018 0.88732774 0.11471935 0.37089616]\n"
     ]
    }
   ],
   "source": [
    "# Make predictions on train data\n",
    "training_pred = model.predict(X_train)"
   ]
  },
  {
   "cell_type": "code",
   "execution_count": 240,
   "metadata": {},
   "outputs": [
    {
     "name": "stdout",
     "output_type": "stream",
     "text": [
      "[0.08703479 0.11582018 0.88732774 0.11471935 0.37089616]\n"
     ]
    }
   ],
   "source": [
    "# Make predictions on test data\n",
    "testing_pred = model.predict(X_test)"
   ]
  },
  {
   "cell_type": "code",
   "execution_count": 241,
   "metadata": {},
   "outputs": [
    {
     "name": "stdout",
     "output_type": "stream",
     "text": [
      "\n",
      "Train Accuracy: 80.0\n"
     ]
    }
   ],
   "source": [
    "# Calculate accuracy on train data\n",
    "training_acc = np.mean(training_pred == y_train)*100\n",
    "print(\"\\nTrain Accuracy:\", training_acc)"
   ]
  },
  {
   "cell_type": "code",
   "execution_count": 242,
   "metadata": {},
   "outputs": [
    {
     "name": "stdout",
     "output_type": "stream",
     "text": [
      "\n",
      "Test Accuracy: 72.46376811594203\n"
     ]
    }
   ],
   "source": [
    "# Calculate accuracy on test data\n",
    "testing_acc = np.mean(testing_pred == y_test)*100\n",
    "print(\"\\nTest Accuracy:\", testing_acc)"
   ]
  },
  {
   "cell_type": "code",
   "execution_count": 244,
   "metadata": {},
   "outputs": [
    {
     "data": {
      "image/png": "[encoded data removed]",
      "text/plain": [
       "<Figure size 1000x500 with 1 Axes>"
      ]
     },
     "metadata": {},
     "output_type": "display_data"
    }
   ],
   "source": [
    "plt.figure(figsize=(10, 5))\n",
    "plt.plot(range(len(model.loss)),model.loss, marker='o', color='green', linestyle='-')\n",
    "plt.xlabel('Iterations')\n",
    "plt.ylabel('Loss')\n",
    "plt.title('Logistic Regression Loss')\n",
    "plt.grid(True)\n",
    "plt.show()"
   ]
  },
  {
   "attachments": {},
   "cell_type": "markdown",
   "metadata": {},
   "source": [
    "2nd Hyperparameter Tuning"
   ]
  },
  {
   "cell_type": "code",
   "execution_count": 174,
   "metadata": {},
   "outputs": [
    {
     "name": "stdout",
     "output_type": "stream",
     "text": [
      "Iteration 0, Cost: 0.4841549380014571\n",
      "Iteration 10000, Cost: 0.3136833037516236\n",
      "Iteration 20000, Cost: 0.3080933836049329\n",
      "Iteration 30000, Cost: 0.3071065256387115\n",
      "Iteration 40000, Cost: 0.3068711373929355\n",
      "Iteration 50000, Cost: 0.3068050968173455\n",
      "Iteration 60000, Cost: 0.3067847065939833\n",
      "Iteration 70000, Cost: 0.30677805869331015\n",
      "Iteration 80000, Cost: 0.30677582600591446\n",
      "Iteration 90000, Cost: 0.306775064293146\n"
     ]
    }
   ],
   "source": [
    "# Train the Logistic Regression model\n",
    "model = LogisticRegression(learn_rate=1e-2, iterations=100000)\n",
    "model.fit(X_train, y_train)"
   ]
  },
  {
   "cell_type": "code",
   "execution_count": 175,
   "metadata": {},
   "outputs": [
    {
     "name": "stdout",
     "output_type": "stream",
     "text": [
      "[-1.20388203  0.90252087  3.37103462 -0.8333548   2.81676156]\n"
     ]
    }
   ],
   "source": [
    "# Make predictions on train data\n",
    "training_pred = model.predict(X_train)"
   ]
  },
  {
   "cell_type": "code",
   "execution_count": 176,
   "metadata": {},
   "outputs": [
    {
     "name": "stdout",
     "output_type": "stream",
     "text": [
      "[-1.20388203  0.90252087  3.37103462 -0.8333548   2.81676156]\n"
     ]
    }
   ],
   "source": [
    "# Make predictions on test data\n",
    "testing_pred = model.predict(X_test)"
   ]
  },
  {
   "cell_type": "code",
   "execution_count": 177,
   "metadata": {},
   "outputs": [
    {
     "name": "stdout",
     "output_type": "stream",
     "text": [
      "\n",
      "Train Accuracy: 88.0\n"
     ]
    }
   ],
   "source": [
    "# Calculate accuracy on training data\n",
    "training_acc = np.mean(training_pred == y_train)*100\n",
    "print(\"\\nTrain Accuracy:\", training_acc)"
   ]
  },
  {
   "cell_type": "code",
   "execution_count": 178,
   "metadata": {},
   "outputs": [
    {
     "name": "stdout",
     "output_type": "stream",
     "text": [
      "\n",
      "Test Accuracy: 85.5072463768116\n"
     ]
    }
   ],
   "source": [
    "# Calculate accuracy on test data\n",
    "testing_acc = np.mean(testing_pred == y_test)*100\n",
    "print(\"\\nTest Accuracy:\", testing_acc)"
   ]
  },
  {
   "cell_type": "code",
   "execution_count": 179,
   "metadata": {},
   "outputs": [
    {
     "data": {
      "image/png": "[encoded data removed]",
      "text/plain": [
       "<Figure size 1000x500 with 1 Axes>"
      ]
     },
     "metadata": {},
     "output_type": "display_data"
    }
   ],
   "source": [
    "plt.figure(figsize=(10, 5))\n",
    "plt.plot(range(len(model.loss)),model.loss, marker='o', color='green', linestyle='-')\n",
    "plt.xlabel('Iterations')\n",
    "plt.ylabel('Loss')\n",
    "plt.title('Logistic Regression Loss')\n",
    "plt.grid(True)\n",
    "plt.show()"
   ]
  },
  {
   "attachments": {},
   "cell_type": "markdown",
   "metadata": {},
   "source": [
    "3rd HyperParameter Tuning:"
   ]
  },
  {
   "cell_type": "code",
   "execution_count": 180,
   "metadata": {},
   "outputs": [
    {
     "name": "stdout",
     "output_type": "stream",
     "text": [
      "Iteration 0, Cost: 0.6139460146756451\n",
      "Iteration 10000, Cost: 0.4036971630647466\n",
      "Iteration 20000, Cost: 0.36401416951237947\n",
      "Iteration 30000, Cost: 0.345137756511159\n",
      "Iteration 40000, Cost: 0.3342546990647163\n",
      "Iteration 50000, Cost: 0.32729297712969646\n",
      "Iteration 60000, Cost: 0.32253923134072177\n",
      "Iteration 70000, Cost: 0.31914363573658483\n",
      "Iteration 80000, Cost: 0.3166367209041756\n",
      "Iteration 90000, Cost: 0.31473858912141045\n"
     ]
    }
   ],
   "source": [
    "# Train the Logistic Regression model\n",
    "model = LogisticRegression(learn_rate=0.001, iterations=100000)\n",
    "model.fit(X_train, y_train)"
   ]
  },
  {
   "cell_type": "code",
   "execution_count": 181,
   "metadata": {},
   "outputs": [
    {
     "name": "stdout",
     "output_type": "stream",
     "text": [
      "[-0.47670883  0.57387737  2.77560303 -0.21783346  2.35706438]\n"
     ]
    }
   ],
   "source": [
    "# Make predictions on train data\n",
    "training_pred = model.predict(X_train)"
   ]
  },
  {
   "cell_type": "code",
   "execution_count": 182,
   "metadata": {},
   "outputs": [
    {
     "name": "stdout",
     "output_type": "stream",
     "text": [
      "[-0.47670883  0.57387737  2.77560303 -0.21783346  2.35706438]\n"
     ]
    }
   ],
   "source": [
    "# Make predictions on test data\n",
    "testing_pred = model.predict(X_test)"
   ]
  },
  {
   "cell_type": "code",
   "execution_count": 183,
   "metadata": {},
   "outputs": [
    {
     "name": "stdout",
     "output_type": "stream",
     "text": [
      "\n",
      "Train Accuracy: 87.63636363636364\n"
     ]
    }
   ],
   "source": [
    "# Calculate accuracy on training data\n",
    "training_acc = np.mean(training_pred == y_train)*100\n",
    "print(\"\\nTrain Accuracy:\", training_acc)"
   ]
  },
  {
   "cell_type": "code",
   "execution_count": 184,
   "metadata": {},
   "outputs": [
    {
     "name": "stdout",
     "output_type": "stream",
     "text": [
      "\n",
      "Test Accuracy: 89.85507246376811\n"
     ]
    }
   ],
   "source": [
    "# Calculate accuracy on test data\n",
    "testing_acc = np.mean(testing_pred == y_test)*100\n",
    "print(\"\\nTest Accuracy:\", testing_acc)"
   ]
  },
  {
   "cell_type": "code",
   "execution_count": 185,
   "metadata": {},
   "outputs": [
    {
     "data": {
      "image/png": "[encoded data removed]",
      "text/plain": [
       "<Figure size 1000x500 with 1 Axes>"
      ]
     },
     "metadata": {},
     "output_type": "display_data"
    }
   ],
   "source": [
    "plt.figure(figsize=(10, 5))\n",
    "plt.plot(range(len(model.loss)),model.loss, marker='o', color='green', linestyle='-')\n",
    "plt.xlabel('Iterations')\n",
    "plt.ylabel('Loss')\n",
    "plt.title('Logistic Regression Loss')\n",
    "plt.grid(True)\n",
    "plt.show()"
   ]
  },
  {
   "cell_type": "code",
   "execution_count": null,
   "metadata": {},
   "outputs": [],
   "source": []
  }
 ],
 "metadata": {
  "kernelspec": {
   "display_name": "Python 3",
   "language": "python",
   "name": "python3"
  },
  "language_info": {
   "codemirror_mode": {
    "name": "ipython",
    "version": 3
   },
   "file_extension": ".py",
   "mimetype": "text/x-python",
   "name": "python",
   "nbconvert_exporter": "python",
   "pygments_lexer": "ipython3",
   "version": "3.9.6"
  },
  "vscode": {
   "interpreter": {
    "hash": "31f2aee4e71d21fbe5cf8b01ff0e069b9275f58929596ceb00d14d90e3e16cd6"
   }
  }
 },
 "nbformat": 4,
 "nbformat_minor": 2
}
